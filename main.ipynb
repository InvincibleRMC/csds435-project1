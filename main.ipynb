{
 "cells": [
  {
   "cell_type": "markdown",
   "metadata": {},
   "source": [
    "## Nearest_Neighbor"
   ]
  },
  {
   "cell_type": "code",
   "execution_count": 5,
   "metadata": {},
   "outputs": [
    {
     "name": "stdout",
     "output_type": "stream",
     "text": [
      "-----------------model: Nearest_Neighbor, dataset: 1-----------------\n",
      "   fold_num  Accuracy  Precision    Recall  F1 Measure\n",
      "0         0  0.964912   0.956522  0.956522    0.956522\n",
      "1         1  0.894737   0.866667  0.764706    0.812500\n",
      "2         2  0.964912   1.000000  0.857143    0.923077\n",
      "3         3  0.912281   0.900000  0.857143    0.878049\n",
      "4         4  0.947368   0.947368  0.900000    0.923077\n",
      "5         5  0.912281   0.958333  0.851852    0.901961\n",
      "6         6  0.912281   0.904762  0.863636    0.883721\n",
      "7         7  0.947368   0.875000  0.933333    0.903226\n",
      "8         8  0.929825   0.935484  0.935484    0.935484\n",
      "9         9  0.910714   0.904762  0.863636    0.883721\n"
     ]
    }
   ],
   "source": [
    "! python main.py --dataset 1 --algorithm Nearest_Neighbor"
   ]
  },
  {
   "cell_type": "code",
   "execution_count": 6,
   "metadata": {},
   "outputs": [
    {
     "name": "stdout",
     "output_type": "stream",
     "text": [
      "-----------------model: Nearest_Neighbor, dataset: 2-----------------\n",
      "   fold_num  Accuracy  Precision    Recall  F1 Measure\n",
      "0         0  0.510638   0.428571  0.285714    0.342857\n",
      "1         1  0.702128   0.461538  0.461538    0.461538\n",
      "2         2  0.652174   0.666667  0.315789    0.428571\n",
      "3         3  0.586957   0.333333  0.266667    0.296296\n",
      "4         4  0.586957   0.555556  0.250000    0.344828\n",
      "5         5  0.500000   0.307692  0.222222    0.258065\n",
      "6         6  0.652174   0.384615  0.384615    0.384615\n",
      "7         7  0.782609   0.555556  0.454545    0.500000\n",
      "8         8  0.521739   0.250000  0.187500    0.214286\n",
      "9         9  0.543478   0.181818  0.142857    0.160000\n"
     ]
    }
   ],
   "source": [
    "! python main.py --dataset 2 --algorithm Nearest_Neighbor"
   ]
  },
  {
   "cell_type": "markdown",
   "metadata": {},
   "source": [
    "## Decision_Tree"
   ]
  },
  {
   "cell_type": "code",
   "execution_count": 7,
   "metadata": {},
   "outputs": [
    {
     "name": "stdout",
     "output_type": "stream",
     "text": [
      "-----------------model: Decision_Tree, dataset: 1-----------------\n",
      "   fold_num  Accuracy  Precision    Recall  F1 Measure\n",
      "0         0  0.947368   0.954545  0.913043    0.933333\n",
      "1         1  0.877193   0.750000  0.882353    0.810811\n",
      "2         2  0.982456   1.000000  0.928571    0.962963\n",
      "3         3  0.929825   0.947368  0.857143    0.900000\n",
      "4         4  0.859649   0.833333  0.750000    0.789474\n",
      "5         5  0.947368   0.928571  0.962963    0.945455\n",
      "6         6  0.912281   0.869565  0.909091    0.888889\n",
      "7         7  0.947368   0.875000  0.933333    0.903226\n",
      "8         8  0.947368   1.000000  0.903226    0.949153\n",
      "9         9  0.892857   0.863636  0.863636    0.863636\n"
     ]
    }
   ],
   "source": [
    "! python main.py --dataset 1 --algorithm Decision_Tree"
   ]
  },
  {
   "cell_type": "code",
   "execution_count": 8,
   "metadata": {},
   "outputs": [
    {
     "name": "stdout",
     "output_type": "stream",
     "text": [
      "-----------------model: Decision_Tree, dataset: 2-----------------\n",
      "   fold_num  Accuracy  Precision    Recall  F1 Measure\n",
      "0         0  0.595745   0.600000  0.285714    0.387097\n",
      "1         1  0.765957   0.600000  0.461538    0.521739\n",
      "2         2  0.652174   0.588235  0.526316    0.555556\n",
      "3         3  0.586957   0.375000  0.400000    0.387097\n",
      "4         4  0.586957   0.545455  0.300000    0.387097\n",
      "5         5  0.608696   0.500000  0.388889    0.437500\n",
      "6         6  0.782609   0.714286  0.384615    0.500000\n",
      "7         7  0.782609   0.571429  0.363636    0.444444\n",
      "8         8  0.673913   0.555556  0.312500    0.400000\n",
      "9         9  0.673913   0.466667  0.500000    0.482759\n"
     ]
    }
   ],
   "source": [
    "! python main.py --dataset 2 --algorithm Decision_Tree"
   ]
  },
  {
   "cell_type": "markdown",
   "metadata": {},
   "source": [
    "## Naive_Bayes"
   ]
  },
  {
   "cell_type": "code",
   "execution_count": 9,
   "metadata": {},
   "outputs": [
    {
     "name": "stdout",
     "output_type": "stream",
     "text": [
      "-----------------model: Naive_Bayes, dataset: 1-----------------\n",
      "   fold_num  Accuracy  Precision    Recall  F1 Measure\n",
      "0         0  0.929825   0.913043  0.913043    0.913043\n",
      "1         1  0.929825   0.882353  0.882353    0.882353\n",
      "2         2  1.000000   1.000000  1.000000    1.000000\n",
      "3         3  0.912281   0.900000  0.857143    0.878049\n",
      "4         4  0.912281   0.941176  0.800000    0.864865\n",
      "5         5  0.947368   1.000000  0.888889    0.941176\n",
      "6         6  0.964912   0.954545  0.954545    0.954545\n",
      "7         7  0.964912   0.933333  0.933333    0.933333\n",
      "8         8  0.912281   0.964286  0.870968    0.915254\n",
      "9         9  0.910714   0.904762  0.863636    0.883721\n"
     ]
    }
   ],
   "source": [
    "! python main.py --dataset 1 --algorithm Naive_Bayes"
   ]
  },
  {
   "cell_type": "code",
   "execution_count": 10,
   "metadata": {},
   "outputs": [
    {
     "name": "stdout",
     "output_type": "stream",
     "text": [
      "-----------------model: Naive_Bayes, dataset: 2-----------------\n",
      "   fold_num  Accuracy  Precision    Recall  F1 Measure\n",
      "0         0  0.680851   0.615385  0.761905    0.680851\n",
      "1         1  0.765957   0.550000  0.846154    0.666667\n",
      "2         2  0.782609   0.764706  0.684211    0.722222\n",
      "3         3  0.673913   0.500000  0.600000    0.545455\n",
      "4         4  0.630435   0.600000  0.450000    0.514286\n",
      "5         5  0.630435   0.526316  0.555556    0.540541\n",
      "6         6  0.847826   0.750000  0.692308    0.720000\n",
      "7         7  0.760870   0.500000  0.545455    0.521739\n",
      "8         8  0.608696   0.444444  0.500000    0.470588\n",
      "9         9  0.695652   0.500000  0.571429    0.533333\n"
     ]
    }
   ],
   "source": [
    "! python main.py --dataset 2 --algorithm Naive_Bayes"
   ]
  },
  {
   "cell_type": "markdown",
   "metadata": {},
   "source": [
    "## SVM"
   ]
  },
  {
   "cell_type": "code",
   "execution_count": 11,
   "metadata": {},
   "outputs": [
    {
     "name": "stdout",
     "output_type": "stream",
     "text": [
      "-----------------model: SVM, dataset: 1-----------------\n",
      "   fold_num  Accuracy  Precision    Recall  F1 Measure\n",
      "0         0  0.929825   0.952381  0.869565    0.909091\n",
      "1         1  0.912281   1.000000  0.705882    0.827586\n",
      "2         2  0.964912   1.000000  0.857143    0.923077\n",
      "3         3  0.894737   0.941176  0.761905    0.842105\n",
      "4         4  0.929825   1.000000  0.800000    0.888889\n",
      "5         5  0.894737   0.956522  0.814815    0.880000\n",
      "6         6  0.964912   1.000000  0.909091    0.952381\n",
      "7         7  0.912281   0.916667  0.733333    0.814815\n",
      "8         8  0.894737   0.962963  0.838710    0.896552\n",
      "9         9  0.892857   0.944444  0.772727    0.850000\n"
     ]
    }
   ],
   "source": [
    "! python main.py --dataset 1 --algorithm SVM"
   ]
  },
  {
   "cell_type": "code",
   "execution_count": 15,
   "metadata": {},
   "outputs": [
    {
     "name": "stdout",
     "output_type": "stream",
     "text": [
      "/Users/yangwang/anaconda3/envs/EE228HW/lib/python3.11/site-packages/sklearn/metrics/_classification.py:1509: UndefinedMetricWarning: Precision is ill-defined and being set to 0.0 due to no predicted samples. Use `zero_division` parameter to control this behavior.\n",
      "  _warn_prf(average, modifier, f\"{metric.capitalize()} is\", len(result))\n",
      "/Users/yangwang/anaconda3/envs/EE228HW/lib/python3.11/site-packages/sklearn/metrics/_classification.py:1509: UndefinedMetricWarning: Precision is ill-defined and being set to 0.0 due to no predicted samples. Use `zero_division` parameter to control this behavior.\n",
      "  _warn_prf(average, modifier, f\"{metric.capitalize()} is\", len(result))\n",
      "-----------------model: SVM, dataset: 2-----------------\n",
      "   fold_num  Accuracy  Precision    Recall  F1 Measure\n",
      "0         0  0.553191   0.000000  0.000000    0.000000\n",
      "1         1  0.723404   0.000000  0.000000    0.000000\n",
      "2         2  0.608696   1.000000  0.052632    0.100000\n",
      "3         3  0.652174   0.333333  0.066667    0.111111\n",
      "4         4  0.565217   0.500000  0.050000    0.090909\n",
      "5         5  0.630435   1.000000  0.055556    0.105263\n",
      "6         6  0.739130   1.000000  0.076923    0.142857\n",
      "7         7  0.782609   1.000000  0.090909    0.166667\n",
      "8         8  0.630435   0.333333  0.062500    0.105263\n",
      "9         9  0.673913   0.000000  0.000000    0.000000\n"
     ]
    }
   ],
   "source": [
    "! python main.py --dataset 2 --algorithm SVM"
   ]
  },
  {
   "cell_type": "markdown",
   "metadata": {},
   "source": [
    "## Neural_Network"
   ]
  },
  {
   "cell_type": "code",
   "execution_count": 13,
   "metadata": {},
   "outputs": [
    {
     "name": "stdout",
     "output_type": "stream",
     "text": [
      "-----------------model: Neural_Network, dataset: 1-----------------\n",
      "   fold_num  Accuracy  Precision    Recall  F1 Measure\n",
      "0         0  0.929825   0.952381  0.869565    0.909091\n",
      "1         1  0.912281   0.800000  0.941176    0.864865\n",
      "2         2  0.964912   1.000000  0.857143    0.923077\n",
      "3         3  0.929825   0.947368  0.857143    0.900000\n",
      "4         4  0.964912   1.000000  0.900000    0.947368\n",
      "5         5  0.929825   0.960000  0.888889    0.923077\n",
      "6         6  0.894737   0.833333  0.909091    0.869565\n",
      "7         7  0.947368   1.000000  0.800000    0.888889\n",
      "8         8  0.964912   1.000000  0.935484    0.966667\n",
      "9         9  0.892857   0.833333  0.909091    0.869565\n"
     ]
    }
   ],
   "source": [
    "! python main.py --dataset 1 --algorithm Neural_Network"
   ]
  },
  {
   "cell_type": "code",
   "execution_count": 14,
   "metadata": {},
   "outputs": [
    {
     "name": "stdout",
     "output_type": "stream",
     "text": [
      "-----------------model: Neural_Network, dataset: 2-----------------\n",
      "   fold_num  Accuracy  Precision    Recall  F1 Measure\n",
      "0         0  0.617021   0.565217  0.619048    0.590909\n",
      "1         1  0.702128   0.478261  0.846154    0.611111\n",
      "2         2  0.652174   0.571429  0.631579    0.600000\n",
      "3         3  0.673913   0.500000  0.333333    0.400000\n",
      "4         4  0.608696   0.666667  0.200000    0.307692\n",
      "5         5  0.608696   0.500000  0.388889    0.437500\n",
      "6         6  0.782609   0.615385  0.615385    0.615385\n",
      "7         7  0.782609   0.545455  0.545455    0.545455\n",
      "8         8  0.565217   0.388889  0.437500    0.411765\n",
      "9         9  0.739130   1.000000  0.142857    0.250000\n"
     ]
    }
   ],
   "source": [
    "! python main.py --dataset 2 --algorithm Neural_Network"
   ]
  },
  {
   "cell_type": "code",
   "execution_count": null,
   "metadata": {},
   "outputs": [],
   "source": []
  }
 ],
 "metadata": {
  "kernelspec": {
   "display_name": "EE228HW",
   "language": "python",
   "name": "python3"
  },
  "language_info": {
   "codemirror_mode": {
    "name": "ipython",
    "version": 3
   },
   "file_extension": ".py",
   "mimetype": "text/x-python",
   "name": "python",
   "nbconvert_exporter": "python",
   "pygments_lexer": "ipython3",
   "version": "3.11.5"
  }
 },
 "nbformat": 4,
 "nbformat_minor": 2
}
