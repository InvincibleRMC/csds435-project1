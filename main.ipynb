{
 "cells": [
  {
   "cell_type": "markdown",
   "metadata": {},
   "source": [
    "## Nearest_Neighbor"
   ]
  },
  {
   "cell_type": "code",
   "execution_count": 4,
   "metadata": {},
   "outputs": [
    {
     "name": "stdout",
     "output_type": "stream",
     "text": [
      "-----------------model: Nearest_Neighbor, dataset: 1-----------------\n",
      "   fold_num  Accuracy  Precision    Recall  F1 Measure\n",
      "0         0  0.964912   0.956522  0.956522    0.956522\n",
      "1         1  0.964912   0.941176  0.941176    0.941176\n",
      "2         2  0.964912   0.928571  0.928571    0.928571\n",
      "3         3  0.964912   1.000000  0.904762    0.950000\n",
      "4         4  0.912281   1.000000  0.750000    0.857143\n",
      "5         5  0.982456   1.000000  0.962963    0.981132\n",
      "6         6  1.000000   1.000000  1.000000    1.000000\n",
      "7         7  0.982456   1.000000  0.933333    0.965517\n",
      "8         8  0.947368   1.000000  0.903226    0.949153\n",
      "9         9  0.982143   0.956522  1.000000    0.977778\n"
     ]
    }
   ],
   "source": [
    "! python main.py --dataset 1 --algorithm Nearest_Neighbor"
   ]
  },
  {
   "cell_type": "code",
   "execution_count": 5,
   "metadata": {},
   "outputs": [
    {
     "name": "stdout",
     "output_type": "stream",
     "text": [
      "-----------------model: Nearest_Neighbor, dataset: 2-----------------\n",
      "   fold_num  Accuracy  Precision    Recall  F1 Measure\n",
      "0         0  0.574468   0.523810  0.523810    0.523810\n",
      "1         1  0.595745   0.333333  0.461538    0.387097\n",
      "2         2  0.673913   0.700000  0.368421    0.482759\n",
      "3         3  0.695652   0.538462  0.466667    0.500000\n",
      "4         4  0.586957   0.571429  0.200000    0.296296\n",
      "5         5  0.608696   0.500000  0.333333    0.400000\n",
      "6         6  0.695652   0.444444  0.307692    0.363636\n",
      "7         7  0.804348   0.625000  0.454545    0.526316\n",
      "8         8  0.586957   0.363636  0.250000    0.296296\n",
      "9         9  0.717391   0.545455  0.428571    0.480000\n"
     ]
    }
   ],
   "source": [
    "! python main.py --dataset 2 --algorithm Nearest_Neighbor"
   ]
  },
  {
   "cell_type": "markdown",
   "metadata": {},
   "source": [
    "## Decision_Tree"
   ]
  },
  {
   "cell_type": "code",
   "execution_count": 6,
   "metadata": {},
   "outputs": [
    {
     "name": "stdout",
     "output_type": "stream",
     "text": [
      "-----------------model: Decision_Tree, dataset: 1-----------------\n",
      "   fold_num  Accuracy  Precision    Recall  F1 Measure\n",
      "0         0  0.947368   0.954545  0.913043    0.933333\n",
      "1         1  0.877193   0.750000  0.882353    0.810811\n",
      "2         2  0.982456   1.000000  0.928571    0.962963\n",
      "3         3  0.929825   0.947368  0.857143    0.900000\n",
      "4         4  0.859649   0.833333  0.750000    0.789474\n",
      "5         5  0.947368   0.928571  0.962963    0.945455\n",
      "6         6  0.912281   0.869565  0.909091    0.888889\n",
      "7         7  0.947368   0.875000  0.933333    0.903226\n",
      "8         8  0.947368   1.000000  0.903226    0.949153\n",
      "9         9  0.892857   0.863636  0.863636    0.863636\n"
     ]
    }
   ],
   "source": [
    "! python main.py --dataset 1 --algorithm Decision_Tree"
   ]
  },
  {
   "cell_type": "code",
   "execution_count": 7,
   "metadata": {},
   "outputs": [
    {
     "name": "stdout",
     "output_type": "stream",
     "text": [
      "-----------------model: Decision_Tree, dataset: 2-----------------\n",
      "   fold_num  Accuracy  Precision    Recall  F1 Measure\n",
      "0         0  0.595745   0.600000  0.285714    0.387097\n",
      "1         1  0.765957   0.600000  0.461538    0.521739\n",
      "2         2  0.652174   0.588235  0.526316    0.555556\n",
      "3         3  0.586957   0.375000  0.400000    0.387097\n",
      "4         4  0.586957   0.545455  0.300000    0.387097\n",
      "5         5  0.608696   0.500000  0.388889    0.437500\n",
      "6         6  0.782609   0.714286  0.384615    0.500000\n",
      "7         7  0.782609   0.571429  0.363636    0.444444\n",
      "8         8  0.673913   0.555556  0.312500    0.400000\n",
      "9         9  0.673913   0.466667  0.500000    0.482759\n"
     ]
    }
   ],
   "source": [
    "! python main.py --dataset 2 --algorithm Decision_Tree"
   ]
  },
  {
   "cell_type": "markdown",
   "metadata": {},
   "source": [
    "## Naive_Bayes"
   ]
  },
  {
   "cell_type": "code",
   "execution_count": 8,
   "metadata": {},
   "outputs": [
    {
     "name": "stdout",
     "output_type": "stream",
     "text": [
      "-----------------model: Naive_Bayes, dataset: 1-----------------\n",
      "   fold_num  Accuracy  Precision    Recall  F1 Measure\n",
      "0         0  0.947368   0.916667  0.956522    0.936170\n",
      "1         1  0.929825   0.882353  0.882353    0.882353\n",
      "2         2  0.964912   0.875000  1.000000    0.933333\n",
      "3         3  0.912281   0.900000  0.857143    0.878049\n",
      "4         4  0.894737   0.888889  0.800000    0.842105\n",
      "5         5  0.964912   1.000000  0.925926    0.961538\n",
      "6         6  0.964912   0.954545  0.954545    0.954545\n",
      "7         7  0.964912   0.933333  0.933333    0.933333\n",
      "8         8  0.912281   0.964286  0.870968    0.915254\n",
      "9         9  0.892857   0.863636  0.863636    0.863636\n"
     ]
    }
   ],
   "source": [
    "! python main.py --dataset 1 --algorithm Naive_Bayes"
   ]
  },
  {
   "cell_type": "code",
   "execution_count": 9,
   "metadata": {},
   "outputs": [
    {
     "name": "stdout",
     "output_type": "stream",
     "text": [
      "-----------------model: Naive_Bayes, dataset: 2-----------------\n",
      "   fold_num  Accuracy  Precision    Recall  F1 Measure\n",
      "0         0  0.680851   0.615385  0.761905    0.680851\n",
      "1         1  0.765957   0.550000  0.846154    0.666667\n",
      "2         2  0.782609   0.764706  0.684211    0.722222\n",
      "3         3  0.673913   0.500000  0.600000    0.545455\n",
      "4         4  0.630435   0.600000  0.450000    0.514286\n",
      "5         5  0.630435   0.526316  0.555556    0.540541\n",
      "6         6  0.847826   0.750000  0.692308    0.720000\n",
      "7         7  0.760870   0.500000  0.545455    0.521739\n",
      "8         8  0.608696   0.444444  0.500000    0.470588\n",
      "9         9  0.695652   0.500000  0.571429    0.533333\n"
     ]
    }
   ],
   "source": [
    "! python main.py --dataset 2 --algorithm Naive_Bayes"
   ]
  },
  {
   "cell_type": "markdown",
   "metadata": {},
   "source": [
    "## SVM"
   ]
  },
  {
   "cell_type": "code",
   "execution_count": 13,
   "metadata": {},
   "outputs": [
    {
     "name": "stdout",
     "output_type": "stream",
     "text": [
      "-----------------model: SVM, dataset: 1-----------------\n",
      "   fold_num  Accuracy  Precision    Recall  F1 Measure\n",
      "0         0  1.000000   1.000000  1.000000    1.000000\n",
      "1         1  0.964912   0.941176  0.941176    0.941176\n",
      "2         2  1.000000   1.000000  1.000000    1.000000\n",
      "3         3  0.982456   1.000000  0.952381    0.975610\n",
      "4         4  0.964912   0.950000  0.950000    0.950000\n",
      "5         5  0.982456   1.000000  0.962963    0.981132\n",
      "6         6  0.982456   0.956522  1.000000    0.977778\n",
      "7         7  0.964912   0.933333  0.933333    0.933333\n",
      "8         8  0.947368   1.000000  0.903226    0.949153\n",
      "9         9  0.982143   0.956522  1.000000    0.977778\n"
     ]
    }
   ],
   "source": [
    "! python main.py --dataset 1 --algorithm SVM"
   ]
  },
  {
   "cell_type": "code",
   "execution_count": 14,
   "metadata": {},
   "outputs": [
    {
     "name": "stdout",
     "output_type": "stream",
     "text": [
      "-----------------model: SVM, dataset: 2-----------------\n",
      "   fold_num  Accuracy  Precision    Recall  F1 Measure\n",
      "0         0  0.638298   0.611111  0.523810    0.564103\n",
      "1         1  0.872340   0.769231  0.769231    0.769231\n",
      "2         2  0.760870   0.833333  0.526316    0.645161\n",
      "3         3  0.695652   0.538462  0.466667    0.500000\n",
      "4         4  0.608696   0.666667  0.200000    0.307692\n",
      "5         5  0.695652   0.666667  0.444444    0.533333\n",
      "6         6  0.804348   0.833333  0.384615    0.526316\n",
      "7         7  0.804348   0.625000  0.454545    0.526316\n",
      "8         8  0.586957   0.363636  0.250000    0.296296\n",
      "9         9  0.717391   0.555556  0.357143    0.434783\n"
     ]
    }
   ],
   "source": [
    "! python main.py --dataset 2 --algorithm SVM"
   ]
  },
  {
   "cell_type": "markdown",
   "metadata": {},
   "source": [
    "## Neural_Network"
   ]
  },
  {
   "cell_type": "markdown",
   "metadata": {},
   "source": [
    "### Default Settings"
   ]
  },
  {
   "cell_type": "code",
   "execution_count": 19,
   "metadata": {},
   "outputs": [
    {
     "name": "stdout",
     "output_type": "stream",
     "text": [
      "-----------------model: Neural_Network, dataset: 1-----------------\n",
      "   fold_num  Accuracy  Precision    Recall  F1 Measure\n",
      "0         0  0.982456   0.958333  1.000000    0.978723\n",
      "1         1  0.982456   1.000000  0.941176    0.969697\n",
      "2         2  1.000000   1.000000  1.000000    1.000000\n",
      "3         3  1.000000   1.000000  1.000000    1.000000\n",
      "4         4  0.947368   0.947368  0.900000    0.923077\n",
      "5         5  0.947368   1.000000  0.888889    0.941176\n",
      "6         6  0.982456   0.956522  1.000000    0.977778\n",
      "7         7  0.964912   0.933333  0.933333    0.933333\n",
      "8         8  0.982456   1.000000  0.967742    0.983607\n",
      "9         9  0.982143   0.956522  1.000000    0.977778\n"
     ]
    }
   ],
   "source": [
    "! python main.py --dataset 1 --algorithm Neural_Network"
   ]
  },
  {
   "cell_type": "code",
   "execution_count": 21,
   "metadata": {},
   "outputs": [
    {
     "name": "stdout",
     "output_type": "stream",
     "text": [
      "-----------------model: Neural_Network, dataset: 2-----------------\n",
      "   fold_num  Accuracy  Precision    Recall  F1 Measure\n",
      "0         0  0.595745   0.545455  0.571429    0.558140\n",
      "1         1  0.787234   0.571429  0.923077    0.705882\n",
      "2         2  0.760870   0.750000  0.631579    0.685714\n",
      "3         3  0.695652   0.538462  0.466667    0.500000\n",
      "4         4  0.608696   0.625000  0.250000    0.357143\n",
      "5         5  0.695652   0.642857  0.500000    0.562500\n",
      "6         6  0.739130   0.555556  0.384615    0.454545\n",
      "7         7  0.782609   0.545455  0.545455    0.545455\n",
      "8         8  0.543478   0.333333  0.312500    0.322581\n",
      "9         9  0.717391   0.545455  0.428571    0.480000\n"
     ]
    }
   ],
   "source": [
    "! python main.py --dataset 2 --algorithm Neural_Network"
   ]
  },
  {
   "cell_type": "markdown",
   "metadata": {},
   "source": [
    "### Optomized Settings"
   ]
  },
  {
   "cell_type": "code",
   "execution_count": 20,
   "metadata": {},
   "outputs": [
    {
     "name": "stdout",
     "output_type": "stream",
     "text": [
      "-----------------model: Neural_Network, dataset: 1-----------------\n",
      "   fold_num  Accuracy  Precision    Recall  F1 Measure\n",
      "0         0  0.982456   0.958333  1.000000    0.978723\n",
      "1         1  0.982456   1.000000  0.941176    0.969697\n",
      "2         2  0.964912   1.000000  0.857143    0.923077\n",
      "3         3  0.982456   0.954545  1.000000    0.976744\n",
      "4         4  0.929825   0.944444  0.850000    0.894737\n",
      "5         5  0.964912   1.000000  0.925926    0.961538\n",
      "6         6  0.982456   0.956522  1.000000    0.977778\n",
      "7         7  0.982456   1.000000  0.933333    0.965517\n",
      "8         8  0.947368   1.000000  0.903226    0.949153\n",
      "9         9  1.000000   1.000000  1.000000    1.000000\n"
     ]
    }
   ],
   "source": [
    "! python main.py --dataset 1 --algorithm Neural_Network --hyperparameter-type D1"
   ]
  },
  {
   "cell_type": "code",
   "execution_count": 22,
   "metadata": {},
   "outputs": [
    {
     "name": "stdout",
     "output_type": "stream",
     "text": [
      "-----------------model: Neural_Network, dataset: 2-----------------\n",
      "   fold_num  Accuracy  Precision    Recall  F1 Measure\n",
      "0         0  0.702128   0.652174  0.714286    0.681818\n",
      "1         1  0.787234   0.600000  0.692308    0.642857\n",
      "2         2  0.717391   0.650000  0.684211    0.666667\n",
      "3         3  0.695652   0.533333  0.533333    0.533333\n",
      "4         4  0.652174   0.750000  0.300000    0.428571\n",
      "5         5  0.695652   0.642857  0.500000    0.562500\n",
      "6         6  0.847826   0.875000  0.538462    0.666667\n",
      "7         7  0.804348   0.600000  0.545455    0.571429\n",
      "8         8  0.630435   0.461538  0.375000    0.413793\n",
      "9         9  0.739130   0.583333  0.500000    0.538462\n"
     ]
    }
   ],
   "source": [
    "! python main.py --dataset 2 --algorithm Neural_Network --hyperparameter-type D2"
   ]
  }
 ],
 "metadata": {
  "kernelspec": {
   "display_name": ".venv",
   "language": "python",
   "name": "python3"
  },
  "language_info": {
   "codemirror_mode": {
    "name": "ipython",
    "version": 3
   },
   "file_extension": ".py",
   "mimetype": "text/x-python",
   "name": "python",
   "nbconvert_exporter": "python",
   "pygments_lexer": "ipython3",
   "version": "3.12.3"
  }
 },
 "nbformat": 4,
 "nbformat_minor": 2
}
